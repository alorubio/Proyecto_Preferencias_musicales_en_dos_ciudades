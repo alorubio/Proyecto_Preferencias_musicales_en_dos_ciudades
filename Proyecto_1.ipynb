{
 "cells": [
  {
   "cell_type": "markdown",
   "metadata": {
    "toc": true
   },
   "source": [
    "<h1>Table of Contents<span class=\"tocSkip\"></span></h1>\n",
    "<div class=\"toc\"><ul class=\"toc-item\"><li><span><a href=\"#Introducción-\" data-toc-modified-id=\"Introducción--1\"><span class=\"toc-item-num\">1&nbsp;&nbsp;</span>Introducción <a id=\"intro\" rel=\"nofollow\"></a></a></span><ul class=\"toc-item\"><li><span><a href=\"#Objetivo:\" data-toc-modified-id=\"Objetivo:-1.1\"><span class=\"toc-item-num\">1.1&nbsp;&nbsp;</span>Objetivo:</a></span></li><li><span><a href=\"#Etapas\" data-toc-modified-id=\"Etapas-1.2\"><span class=\"toc-item-num\">1.2&nbsp;&nbsp;</span>Etapas</a></span></li></ul></li><li><span><a href=\"#Etapa-1.-Descripción-de-los-datos-\" data-toc-modified-id=\"Etapa-1.-Descripción-de-los-datos--2\"><span class=\"toc-item-num\">2&nbsp;&nbsp;</span>Etapa 1. Descripción de los datos <a id=\"data_review\" rel=\"nofollow\"></a></a></span><ul class=\"toc-item\"><li><span><a href=\"#Escribe-observaciones-de-tu-parte.-Estas-son-algunas-de-las-preguntas-que-pueden-ser-útiles:-\" data-toc-modified-id=\"Escribe-observaciones-de-tu-parte.-Estas-son-algunas-de-las-preguntas-que-pueden-ser-útiles:--2.1\"><span class=\"toc-item-num\">2.1&nbsp;&nbsp;</span>Escribe observaciones de tu parte. Estas son algunas de las preguntas que pueden ser útiles: <a id=\"data_review_conclusions\" rel=\"nofollow\"></a></a></span></li></ul></li><li><span><a href=\"#Etapa-2.-Preprocesamiento-de-datos-\" data-toc-modified-id=\"Etapa-2.-Preprocesamiento-de-datos--3\"><span class=\"toc-item-num\">3&nbsp;&nbsp;</span>Etapa 2. Preprocesamiento de datos <a id=\"data_preprocessing\" rel=\"nofollow\"></a></a></span><ul class=\"toc-item\"><li><span><a href=\"#Estilo-del-encabezado-\" data-toc-modified-id=\"Estilo-del-encabezado--3.1\"><span class=\"toc-item-num\">3.1&nbsp;&nbsp;</span>Estilo del encabezado <a id=\"header_style\" rel=\"nofollow\"></a></a></span></li><li><span><a href=\"#Valores-ausentes-\" data-toc-modified-id=\"Valores-ausentes--3.2\"><span class=\"toc-item-num\">3.2&nbsp;&nbsp;</span>Valores ausentes <a id=\"missing_values\" rel=\"nofollow\"></a></a></span></li><li><span><a href=\"#Duplicados-\" data-toc-modified-id=\"Duplicados--3.3\"><span class=\"toc-item-num\">3.3&nbsp;&nbsp;</span>Duplicados <a id=\"duplicates\" rel=\"nofollow\"></a></a></span></li><li><span><a href=\"#Tus-observaciones-\" data-toc-modified-id=\"Tus-observaciones--3.4\"><span class=\"toc-item-num\">3.4&nbsp;&nbsp;</span>Tus observaciones <a id=\"data_preprocessing_conclusions\" rel=\"nofollow\"></a></a></span></li></ul></li><li><span><a href=\"#Etapa-3.-Prueba-de-hipótesis-\" data-toc-modified-id=\"Etapa-3.-Prueba-de-hipótesis--4\"><span class=\"toc-item-num\">4&nbsp;&nbsp;</span>Etapa 3. Prueba de hipótesis <a id=\"hypothesis\" rel=\"nofollow\"></a></a></span><ul class=\"toc-item\"><li><span><a href=\"#Hipótesis:-comparar-el-comportamiento-del-usuario-o-la-usuaria-en-las-dos-ciudades-\" data-toc-modified-id=\"Hipótesis:-comparar-el-comportamiento-del-usuario-o-la-usuaria-en-las-dos-ciudades--4.1\"><span class=\"toc-item-num\">4.1&nbsp;&nbsp;</span>Hipótesis: comparar el comportamiento del usuario o la usuaria en las dos ciudades <a id=\"activity\" rel=\"nofollow\"></a></a></span></li><li><span><a href=\"#Nota\" data-toc-modified-id=\"Nota-4.2\"><span class=\"toc-item-num\">4.2&nbsp;&nbsp;</span>Nota</a></span></li></ul></li></ul></div>"
   ]
  },
  {
   "cell_type": "markdown",
   "metadata": {
    "id": "E0vqbgi9ay0H"
   },
   "source": [
    "# Déjame escuchar la música"
   ]
  },
  {
   "cell_type": "markdown",
   "metadata": {
    "id": "fhq_eyov_Zcs"
   },
   "source": [
    "# Contenido <a id='back'></a>\n",
    "\n",
    "* [Introducción](#intro)\n",
    "* [Etapa 1. Descripción de los datos](#data_review)\n",
    "    * [Conclusiones](#data_review_conclusions)\n",
    "* [Etapa 2. Preprocesamiento de datos](#data_preprocessing)\n",
    "    * [2.1 Estilo del encabezado](#header_style)\n",
    "    * [2.2 Valores ausentes](#missing_values)\n",
    "    * [2.3 Duplicados](#duplicates)\n",
    "    * [2.4 Conclusiones](#data_preprocessing_conclusions)\n",
    "* [Etapa 3. Prueba de hipótesis](#hypothesis)\n",
    "    * [3.1 Hipótesis 1: actividad de los usuarios y las usuarias en las dos ciudades](#activity)\n",
    "* [Conclusiones](#end)"
   ]
  },
  {
   "cell_type": "markdown",
   "metadata": {
    "id": "VUC88oWjTJw2"
   },
   "source": [
    "## Introducción <a id='intro'></a>\n",
    "Como analista de datos, tu trabajo consiste en analizar datos para extraer información valiosa y tomar decisiones basadas en ellos. Esto implica diferentes etapas, como la descripción general de los datos, el preprocesamiento y la prueba de hipótesis.\n",
    "\n",
    "Siempre que investigamos, necesitamos formular hipótesis que después podamos probar. A veces aceptamos estas hipótesis; otras veces, las rechazamos. Para tomar las decisiones correctas, una empresa debe ser capaz de entender si está haciendo las suposiciones correctas.\n",
    "\n",
    "En este proyecto, compararás las preferencias musicales de las ciudades de Springfield y Shelbyville. Estudiarás datos reales de transmisión de música online para probar la hipótesis a continuación y comparar el comportamiento de los usuarios y las usuarias de estas dos ciudades.\n",
    "\n",
    "### Objetivo:\n",
    "Prueba la hipótesis:\n",
    "1. La actividad de los usuarios y las usuarias difiere según el día de la semana y dependiendo de la ciudad.\n",
    "\n",
    "\n",
    "### Etapas\n",
    "Los datos del comportamiento del usuario se almacenan en el archivo `/datasets/music_project_en.csv`. No hay ninguna información sobre la calidad de los datos, así que necesitarás examinarlos antes de probar la hipótesis.\n",
    "\n",
    "Primero, evaluarás la calidad de los datos y verás si los problemas son significativos. Entonces, durante el preprocesamiento de datos, tomarás en cuenta los problemas más críticos.\n",
    "\n",
    "Tu proyecto consistirá en tres etapas:\n",
    " 1. Descripción de los datos.\n",
    " 2. Preprocesamiento de datos.\n",
    " 3. Prueba de hipótesis.\n",
    "\n",
    "\n",
    "\n",
    "\n",
    "\n",
    "\n"
   ]
  },
  {
   "cell_type": "markdown",
   "metadata": {
    "id": "hDt6pg-Rw-1U"
   },
   "source": [
    "[Volver a Contenidos](#back)"
   ]
  },
  {
   "cell_type": "markdown",
   "metadata": {
    "id": "Ml1hmfXC_Zcs"
   },
   "source": [
    "## Etapa 1. Descripción de los datos <a id='data_review'></a>\n",
    "\n",
    "Abre los datos y examínalos."
   ]
  },
  {
   "cell_type": "markdown",
   "metadata": {
    "id": "57eAOGIz_Zcs"
   },
   "source": [
    "Necesitarás `pandas`, así que impórtalo."
   ]
  },
  {
   "cell_type": "code",
   "execution_count": 2,
   "metadata": {
    "id": "AXN7PHPN_Zcs"
   },
   "outputs": [],
   "source": [
    "# Importar pandas\n",
    "import pandas as pd"
   ]
  },
  {
   "cell_type": "markdown",
   "metadata": {
    "id": "SG23P8tt_Zcs"
   },
   "source": [
    "Lee el archivo `music_project_en.csv` de la carpeta `/datasets/` y guárdalo en la variable `df`:"
   ]
  },
  {
   "cell_type": "code",
   "execution_count": 3,
   "metadata": {
    "id": "fFVu7vqh_Zct"
   },
   "outputs": [],
   "source": [
    "# Leer el archivo y almacenarlo en df\n",
    "df = pd.read_csv('/datasets/music_project_en.csv')"
   ]
  },
  {
   "cell_type": "markdown",
   "metadata": {
    "id": "rDoOMd3uTqnZ"
   },
   "source": [
    "Muestra las 10 primeras filas de la tabla:"
   ]
  },
  {
   "cell_type": "code",
   "execution_count": 4,
   "metadata": {
    "id": "oWTVX3gW_Zct"
   },
   "outputs": [
    {
     "data": {
      "text/html": [
       "<div>\n",
       "<style scoped>\n",
       "    .dataframe tbody tr th:only-of-type {\n",
       "        vertical-align: middle;\n",
       "    }\n",
       "\n",
       "    .dataframe tbody tr th {\n",
       "        vertical-align: top;\n",
       "    }\n",
       "\n",
       "    .dataframe thead th {\n",
       "        text-align: right;\n",
       "    }\n",
       "</style>\n",
       "<table border=\"1\" class=\"dataframe\">\n",
       "  <thead>\n",
       "    <tr style=\"text-align: right;\">\n",
       "      <th></th>\n",
       "      <th>userID</th>\n",
       "      <th>Track</th>\n",
       "      <th>artist</th>\n",
       "      <th>genre</th>\n",
       "      <th>City</th>\n",
       "      <th>time</th>\n",
       "      <th>Day</th>\n",
       "    </tr>\n",
       "  </thead>\n",
       "  <tbody>\n",
       "    <tr>\n",
       "      <th>0</th>\n",
       "      <td>FFB692EC</td>\n",
       "      <td>Kamigata To Boots</td>\n",
       "      <td>The Mass Missile</td>\n",
       "      <td>rock</td>\n",
       "      <td>Shelbyville</td>\n",
       "      <td>20:28:33</td>\n",
       "      <td>Wednesday</td>\n",
       "    </tr>\n",
       "    <tr>\n",
       "      <th>1</th>\n",
       "      <td>55204538</td>\n",
       "      <td>Delayed Because of Accident</td>\n",
       "      <td>Andreas Rönnberg</td>\n",
       "      <td>rock</td>\n",
       "      <td>Springfield</td>\n",
       "      <td>14:07:09</td>\n",
       "      <td>Friday</td>\n",
       "    </tr>\n",
       "    <tr>\n",
       "      <th>2</th>\n",
       "      <td>20EC38</td>\n",
       "      <td>Funiculì funiculà</td>\n",
       "      <td>Mario Lanza</td>\n",
       "      <td>pop</td>\n",
       "      <td>Shelbyville</td>\n",
       "      <td>20:58:07</td>\n",
       "      <td>Wednesday</td>\n",
       "    </tr>\n",
       "    <tr>\n",
       "      <th>3</th>\n",
       "      <td>A3DD03C9</td>\n",
       "      <td>Dragons in the Sunset</td>\n",
       "      <td>Fire + Ice</td>\n",
       "      <td>folk</td>\n",
       "      <td>Shelbyville</td>\n",
       "      <td>08:37:09</td>\n",
       "      <td>Monday</td>\n",
       "    </tr>\n",
       "    <tr>\n",
       "      <th>4</th>\n",
       "      <td>E2DC1FAE</td>\n",
       "      <td>Soul People</td>\n",
       "      <td>Space Echo</td>\n",
       "      <td>dance</td>\n",
       "      <td>Springfield</td>\n",
       "      <td>08:34:34</td>\n",
       "      <td>Monday</td>\n",
       "    </tr>\n",
       "    <tr>\n",
       "      <th>5</th>\n",
       "      <td>842029A1</td>\n",
       "      <td>Chains</td>\n",
       "      <td>Obladaet</td>\n",
       "      <td>rusrap</td>\n",
       "      <td>Shelbyville</td>\n",
       "      <td>13:09:41</td>\n",
       "      <td>Friday</td>\n",
       "    </tr>\n",
       "    <tr>\n",
       "      <th>6</th>\n",
       "      <td>4CB90AA5</td>\n",
       "      <td>True</td>\n",
       "      <td>Roman Messer</td>\n",
       "      <td>dance</td>\n",
       "      <td>Springfield</td>\n",
       "      <td>13:00:07</td>\n",
       "      <td>Wednesday</td>\n",
       "    </tr>\n",
       "    <tr>\n",
       "      <th>7</th>\n",
       "      <td>F03E1C1F</td>\n",
       "      <td>Feeling This Way</td>\n",
       "      <td>Polina Griffith</td>\n",
       "      <td>dance</td>\n",
       "      <td>Springfield</td>\n",
       "      <td>20:47:49</td>\n",
       "      <td>Wednesday</td>\n",
       "    </tr>\n",
       "    <tr>\n",
       "      <th>8</th>\n",
       "      <td>8FA1D3BE</td>\n",
       "      <td>L’estate</td>\n",
       "      <td>Julia Dalia</td>\n",
       "      <td>ruspop</td>\n",
       "      <td>Springfield</td>\n",
       "      <td>09:17:40</td>\n",
       "      <td>Friday</td>\n",
       "    </tr>\n",
       "    <tr>\n",
       "      <th>9</th>\n",
       "      <td>E772D5C0</td>\n",
       "      <td>Pessimist</td>\n",
       "      <td>NaN</td>\n",
       "      <td>dance</td>\n",
       "      <td>Shelbyville</td>\n",
       "      <td>21:20:49</td>\n",
       "      <td>Wednesday</td>\n",
       "    </tr>\n",
       "  </tbody>\n",
       "</table>\n",
       "</div>"
      ],
      "text/plain": [
       "     userID                        Track            artist   genre  \\\n",
       "0  FFB692EC            Kamigata To Boots  The Mass Missile    rock   \n",
       "1  55204538  Delayed Because of Accident  Andreas Rönnberg    rock   \n",
       "2    20EC38            Funiculì funiculà       Mario Lanza     pop   \n",
       "3  A3DD03C9        Dragons in the Sunset        Fire + Ice    folk   \n",
       "4  E2DC1FAE                  Soul People        Space Echo   dance   \n",
       "5  842029A1                       Chains          Obladaet  rusrap   \n",
       "6  4CB90AA5                         True      Roman Messer   dance   \n",
       "7  F03E1C1F             Feeling This Way   Polina Griffith   dance   \n",
       "8  8FA1D3BE                     L’estate       Julia Dalia  ruspop   \n",
       "9  E772D5C0                    Pessimist               NaN   dance   \n",
       "\n",
       "        City        time        Day  \n",
       "0  Shelbyville  20:28:33  Wednesday  \n",
       "1  Springfield  14:07:09     Friday  \n",
       "2  Shelbyville  20:58:07  Wednesday  \n",
       "3  Shelbyville  08:37:09     Monday  \n",
       "4  Springfield  08:34:34     Monday  \n",
       "5  Shelbyville  13:09:41     Friday  \n",
       "6  Springfield  13:00:07  Wednesday  \n",
       "7  Springfield  20:47:49  Wednesday  \n",
       "8  Springfield  09:17:40     Friday  \n",
       "9  Shelbyville  21:20:49  Wednesday  "
      ]
     },
     "execution_count": 4,
     "metadata": {},
     "output_type": "execute_result"
    }
   ],
   "source": [
    "# Obtener las 10 primeras filas de la tabla df\n",
    "df.head(10)"
   ]
  },
  {
   "cell_type": "markdown",
   "metadata": {
    "id": "EO73Kwic_Zct"
   },
   "source": [
    "Obtén la información general sobre la tabla con un comando. Conoces el método que muestra la información general que necesitamos."
   ]
  },
  {
   "cell_type": "code",
   "execution_count": 4,
   "metadata": {
    "id": "DSf2kIb-_Zct"
   },
   "outputs": [
    {
     "name": "stdout",
     "output_type": "stream",
     "text": [
      "<class 'pandas.core.frame.DataFrame'>\n",
      "RangeIndex: 65079 entries, 0 to 65078\n",
      "Data columns (total 7 columns):\n",
      " #   Column    Non-Null Count  Dtype \n",
      "---  ------    --------------  ----- \n",
      " 0     userID  65079 non-null  object\n",
      " 1   Track     63736 non-null  object\n",
      " 2   artist    57512 non-null  object\n",
      " 3   genre     63881 non-null  object\n",
      " 4     City    65079 non-null  object\n",
      " 5   time      65079 non-null  object\n",
      " 6   Day       65079 non-null  object\n",
      "dtypes: object(7)\n",
      "memory usage: 3.5+ MB\n"
     ]
    }
   ],
   "source": [
    "# Obtener la información general sobre nuestros datos\n",
    "df.info()"
   ]
  },
  {
   "cell_type": "markdown",
   "metadata": {
    "id": "TaQ2Iwbr_Zct"
   },
   "source": [
    "Estas son nuestras observaciones sobre la tabla. Contiene siete columnas. Almacenan los mismos tipos de datos: `object`.\n",
    "\n",
    "Según la documentación:\n",
    "- `' userID'`: identificador del usuario o la usuaria;\n",
    "- `'Track'`: título de la canción;\n",
    "- `'artist'`: nombre del artista;\n",
    "- `'genre'`: género de la pista;\n",
    "- `'City'`: ciudad del usuario o la usuaria;\n",
    "- `'time'`: la hora exacta en la que se reprodujo la canción;\n",
    "- `'Day'`: día de la semana.\n",
    "\n",
    "Podemos ver tres problemas con el estilo en los encabezados de la tabla:\n",
    "1. Algunos encabezados están en mayúsculas, otros en minúsculas.\n",
    "2. Hay espacios en algunos encabezados.\n",
    "3. SE MEZCLAN MAYÚSCULAS Y MINÚSCULAS EN UN MISMO ENCABEZADO, EJEMPLO userID, APARTE AL SER UN NOMBRE CON VARIAS PALABRAS ES MÁS CORRECTO UTILIZAR GUIÓN BAJO PARA SEPARARLAS, EJEMPO user_id\n",
    "\n"
   ]
  },
  {
   "cell_type": "markdown",
   "metadata": {
    "id": "MCB6-dXG_Zct"
   },
   "source": [
    "### Escribe observaciones de tu parte. Estas son algunas de las preguntas que pueden ser útiles: <a id='data_review_conclusions'></a>\n",
    "\n",
    "`1.   ¿Qué tipo de datos tenemos a nuestra disposición en las filas? ¿Y cómo podemos entender lo que almacenan las columnas?`\n",
    "        \n",
    "        LA COLUMNA HORA TIENE ASIGNADO UN TIPO DE DATO OBJECT, SIN EMBARGO NO ES COMO TAL UNA CADENA, SEGÚN LA INFORMACIÓN QUE SE ALMACENA SON HORAS, TAL Y COMO MENCIONA EL NOMBRE, POR TANTO SERÍA MAS ADECUADO QUE LLEVARA EL TIPO DE DATO ACORDE A LA INFORMACIÓN QUE ARROJA\n",
    "        \n",
    "`2.   ¿Hay suficientes datos para proporcionar respuestas a nuestra hipótesis o necesitamos más información?`\n",
    "\n",
    "        AL SER POCO EL PORCENTAJE DE FALTA DE INFORMACIÓN SI SE PODRÍAN PROPORCIONAR RESPUESTAS A LA HIPÓTESIS\n",
    "        \n",
    "`3.   ¿Notaste algún problema en los datos, como valores ausentes, duplicados o tipos de datos incorrectos?`\n",
    "        \n",
    "        EN EFECTO SEGÚN SE MUESTRA EN LA INFORMACIÓN SE ENCUENTRAN VALORES AUSENTES, TIPOS DE DATOS INCORRECTOS (COMO LO MENCIONÉ EN LA PREGUNTA 1), SE HAN ENCONTRADO VALORES DUPLICADOS"
   ]
  },
  {
   "cell_type": "markdown",
   "metadata": {
    "id": "3eL__vcwViOi"
   },
   "source": [
    "[Volver a Contenidos](#back)"
   ]
  },
  {
   "cell_type": "markdown",
   "metadata": {
    "id": "SjYF6Ub9_Zct"
   },
   "source": [
    "## Etapa 2. Preprocesamiento de datos <a id='data_preprocessing'></a>\n",
    "\n",
    "El objetivo aquí es preparar los datos para que sean analizados.\n",
    "El primer paso es resolver cualquier problema con los encabezados. Luego podemos avanzar a los valores ausentes y duplicados. Empecemos.\n",
    "\n",
    "Corrige el formato en los encabezados de la tabla.\n"
   ]
  },
  {
   "cell_type": "markdown",
   "metadata": {
    "id": "dIaKXr29_Zct"
   },
   "source": [
    "### Estilo del encabezado <a id='header_style'></a>\n",
    "Muestra los encabezados de la tabla (los nombres de las columnas):"
   ]
  },
  {
   "cell_type": "code",
   "execution_count": 5,
   "metadata": {
    "id": "oKOTdF_Q_Zct"
   },
   "outputs": [
    {
     "name": "stdout",
     "output_type": "stream",
     "text": [
      "Index(['  userID', 'Track', 'artist', 'genre', '  City  ', 'time', 'Day'], dtype='object')\n"
     ]
    }
   ],
   "source": [
    "# Muestra los nombres de las columnas\n",
    "print(df.columns)"
   ]
  },
  {
   "cell_type": "markdown",
   "metadata": {
    "id": "zj5534cv_Zct"
   },
   "source": [
    "Cambia los encabezados de la tabla de acuerdo con las reglas del buen estilo:\n",
    "* Todos los caracteres deben ser minúsculas.\n",
    "* Elimina los espacios.\n",
    "* Si el nombre tiene varias palabras, utiliza snake_case."
   ]
  },
  {
   "cell_type": "markdown",
   "metadata": {
    "id": "Xu0zkfe5zNJe"
   },
   "source": [
    "Anteriormente, aprendiste acerca de la forma automática de cambiar el nombre de las columnas. Vamos a aplicarla ahora. Utiliza el bucle for para iterar sobre los nombres de las columnas y poner todos los caracteres en minúsculas. Cuando hayas terminado, vuelve a mostrar los encabezados de la tabla:"
   ]
  },
  {
   "cell_type": "code",
   "execution_count": 6,
   "metadata": {
    "id": "6I_RwwMhzM4e"
   },
   "outputs": [
    {
     "name": "stdout",
     "output_type": "stream",
     "text": [
      "['  userid', 'track', 'artist', 'genre', '  city  ', 'time', 'day']\n"
     ]
    }
   ],
   "source": [
    "# Bucle en los encabezados poniendo todo en minúsculas\n",
    "\n",
    "old_names = df.columns\n",
    "new_names = [name.lower() for name in old_names]\n",
    "df.columns = new_names\n",
    "print(new_names)"
   ]
  },
  {
   "cell_type": "markdown",
   "metadata": {
    "id": "pweIRxjSzPYW"
   },
   "source": [
    "Ahora, utilizando el mismo método, elimina los espacios al principio y al final de los nombres de las columnas e imprime los nombres de las columnas nuevamente:"
   ]
  },
  {
   "cell_type": "code",
   "execution_count": 7,
   "metadata": {
    "id": "vVQXbFyJzSYl"
   },
   "outputs": [
    {
     "name": "stdout",
     "output_type": "stream",
     "text": [
      "['userid', 'track', 'artist', 'genre', 'city', 'time', 'day']\n"
     ]
    }
   ],
   "source": [
    "# Bucle en los encabezados eliminando los espacios\n",
    "\n",
    "name_no_space = [name_space.strip() for name_space in new_names]\n",
    "df.columns = name_no_space\n",
    "print(name_no_space)"
   ]
  },
  {
   "cell_type": "markdown",
   "metadata": {
    "id": "yCb8MW1JzURd"
   },
   "source": [
    "Necesitamos aplicar la regla de snake_case a la columna `userid`. Debe ser `user_id`. Cambia el nombre de esta columna y muestra los nombres de todas las columnas cuando hayas terminado."
   ]
  },
  {
   "cell_type": "code",
   "execution_count": 8,
   "metadata": {
    "id": "ISlFqs5y_Zct"
   },
   "outputs": [
    {
     "name": "stdout",
     "output_type": "stream",
     "text": [
      "Index(['user_id', 'track', 'artist', 'genre', 'city', 'time', 'day'], dtype='object')\n"
     ]
    }
   ],
   "source": [
    "# Cambiar el nombre de la columna \"userid\"\n",
    "\n",
    "df = df.rename(columns = {'userid':'user_id'})\n",
    "print(df.columns)"
   ]
  },
  {
   "cell_type": "markdown",
   "metadata": {
    "id": "1dqbh00J_Zct"
   },
   "source": [
    "Comprueba el resultado. Muestra los encabezados una vez más:"
   ]
  },
  {
   "cell_type": "code",
   "execution_count": 9,
   "metadata": {
    "id": "d4NOAmTW_Zct",
    "scrolled": true
   },
   "outputs": [
    {
     "name": "stdout",
     "output_type": "stream",
     "text": [
      "Index(['user_id', 'track', 'artist', 'genre', 'city', 'time', 'day'], dtype='object')\n"
     ]
    }
   ],
   "source": [
    "# Comprobar el resultado: la lista de encabezados\n",
    "print(df.columns)"
   ]
  },
  {
   "cell_type": "markdown",
   "metadata": {
    "id": "xYJk6ksJVpOl"
   },
   "source": [
    "[Volver a Contenidos](#back)"
   ]
  },
  {
   "cell_type": "markdown",
   "metadata": {
    "id": "5ISfbcfY_Zct"
   },
   "source": [
    "### Valores ausentes <a id='missing_values'></a>\n",
    " Primero, encuentra el número de valores ausentes en la tabla. Debes utilizar dos métodos en una secuencia para obtener el número de valores ausentes."
   ]
  },
  {
   "cell_type": "code",
   "execution_count": 10,
   "metadata": {
    "id": "RskX29qr_Zct"
   },
   "outputs": [
    {
     "name": "stdout",
     "output_type": "stream",
     "text": [
      "user_id       0\n",
      "track      1343\n",
      "artist     7567\n",
      "genre      1198\n",
      "city          0\n",
      "time          0\n",
      "day           0\n",
      "dtype: int64\n"
     ]
    }
   ],
   "source": [
    "# Calcular el número de valores ausentes\n",
    "\n",
    "print(df.isna().sum())"
   ]
  },
  {
   "cell_type": "markdown",
   "metadata": {
    "id": "qubhgnlO_Zct"
   },
   "source": [
    "No todos los valores ausentes afectan a la investigación. Por ejemplo, los valores ausentes en `track` y `artist` no son cruciales. Simplemente puedes reemplazarlos con valores predeterminados como el string `'unknown'` (desconocido).\n",
    "\n",
    "Pero los valores ausentes en `'genre'` pueden afectar la comparación entre las preferencias musicales de Springfield y Shelbyville. En la vida real, sería útil saber las razones por las cuales hay datos ausentes e intentar recuperarlos. Pero no tenemos esa oportunidad en este proyecto. Así que tendrás que:\n",
    "* rellenar estos valores ausentes con un valor predeterminado;\n",
    "* evaluar cuánto podrían afectar los valores ausentes a tus cómputos;"
   ]
  },
  {
   "cell_type": "markdown",
   "metadata": {
    "id": "fSv2laPA_Zct"
   },
   "source": [
    "Reemplazar los valores ausentes en las columnas `'track'`, `'artist'` y `'genre'` con el string `'unknown'`. Como mostramos anteriormente en las lecciones, la mejor forma de hacerlo es crear una lista que almacene los nombres de las columnas donde se necesita el reemplazo. Luego, utiliza esta lista e itera sobre las columnas donde se necesita el reemplazo haciendo el propio reemplazo."
   ]
  },
  {
   "cell_type": "code",
   "execution_count": 11,
   "metadata": {
    "id": "KplB5qWs_Zct"
   },
   "outputs": [],
   "source": [
    "# Bucle en los encabezados reemplazando los valores ausentes con 'unknown'\n",
    "\n",
    "columnas = ['track','artist','genre']\n",
    "\n",
    "for variable in columnas:\n",
    "    df[variable].fillna('unknown',inplace = True)"
   ]
  },
  {
   "cell_type": "markdown",
   "metadata": {
    "id": "Ilsm-MZo_Zct"
   },
   "source": [
    "Ahora comprueba el resultado para asegurarte de que después del reemplazo no haya valores ausentes en el conjunto de datos. Para hacer esto, cuenta los valores ausentes nuevamente."
   ]
  },
  {
   "cell_type": "code",
   "execution_count": 12,
   "metadata": {
    "id": "Tq4nYRX4_Zct"
   },
   "outputs": [
    {
     "name": "stdout",
     "output_type": "stream",
     "text": [
      "user_id    0\n",
      "track      0\n",
      "artist     0\n",
      "genre      0\n",
      "city       0\n",
      "time       0\n",
      "day        0\n",
      "dtype: int64\n"
     ]
    }
   ],
   "source": [
    "# Contar valores ausentes\n",
    "\n",
    "print(df.isna().sum())"
   ]
  },
  {
   "cell_type": "markdown",
   "metadata": {
    "id": "74ZIBmq9VrsK"
   },
   "source": [
    "[Volver a Contenidos](#back)"
   ]
  },
  {
   "cell_type": "markdown",
   "metadata": {
    "id": "BWKRtBJ3_Zct"
   },
   "source": [
    "### Duplicados <a id='duplicates'></a>\n",
    "Encuentra el número de duplicados explícitos en la tabla. Una vez más, debes aplicar dos métodos en una secuencia para obtener la cantidad de duplicados explícitos."
   ]
  },
  {
   "cell_type": "code",
   "execution_count": 13,
   "metadata": {
    "id": "36eES_S0_Zct"
   },
   "outputs": [
    {
     "name": "stdout",
     "output_type": "stream",
     "text": [
      "3826\n"
     ]
    }
   ],
   "source": [
    "# Contar duplicados explícitos\n",
    "\n",
    "print(df.duplicated().sum())"
   ]
  },
  {
   "cell_type": "markdown",
   "metadata": {
    "id": "Ot25h6XR_Zct"
   },
   "source": [
    "Ahora, elimina todos los duplicados. Para ello, llama al método que hace exactamente esto."
   ]
  },
  {
   "cell_type": "code",
   "execution_count": 14,
   "metadata": {
    "id": "exFHq6tt_Zct"
   },
   "outputs": [],
   "source": [
    "# Eliminar duplicados explícitos\n",
    "\n",
    "df = df.drop_duplicates()"
   ]
  },
  {
   "cell_type": "markdown",
   "metadata": {
    "id": "Im2YwBEG_Zct"
   },
   "source": [
    "Comprobemos ahora si eliminamos con éxito todos los duplicados. Cuenta los duplicados explícitos una vez más para asegurarte de haberlos eliminado todos:"
   ]
  },
  {
   "cell_type": "code",
   "execution_count": 15,
   "metadata": {
    "id": "-8PuNWQ0_Zct"
   },
   "outputs": [
    {
     "name": "stdout",
     "output_type": "stream",
     "text": [
      "0\n"
     ]
    }
   ],
   "source": [
    "# Comprobar de nuevo si hay duplicados\n",
    "\n",
    "print(df.duplicated().sum())"
   ]
  },
  {
   "cell_type": "markdown",
   "metadata": {
    "id": "QlFBsxAr_Zct"
   },
   "source": [
    "Ahora queremos deshacernos de los duplicados implícitos en la columna `genre`. Por ejemplo, el nombre de un género se puede escribir de varias formas. Dichos errores también pueden afectar al resultado."
   ]
  },
  {
   "cell_type": "markdown",
   "metadata": {
    "id": "eSjWwsOh_Zct"
   },
   "source": [
    "Para hacerlo, primero mostremos una lista de nombres de género únicos, ordenados en orden alfabético. Para ello:\n",
    "* Extrae la columna `genre` del DataFrame.\n",
    "* Llama al método que devolverá todos los valores únicos en la columna extraída.\n"
   ]
  },
  {
   "cell_type": "code",
   "execution_count": 16,
   "metadata": {
    "id": "JIUcqzZN_Zct"
   },
   "outputs": [
    {
     "name": "stdout",
     "output_type": "stream",
     "text": [
      "['acid', 'acoustic', 'action', 'adult', 'africa', 'afrikaans', 'alternative', 'ambient', 'americana', 'animated', 'anime', 'arabesk', 'arabic', 'arena', 'argentinetango', 'art', 'audiobook', 'avantgarde', 'axé', 'baile', 'balkan', 'beats', 'bigroom', 'black', 'bluegrass', 'blues', 'bollywood', 'bossa', 'brazilian', 'breakbeat', 'breaks', 'broadway', 'cantautori', 'cantopop', 'canzone', 'caribbean', 'caucasian', 'celtic', 'chamber', 'children', 'chill', 'chinese', 'choral', 'christian', 'christmas', 'classical', 'classicmetal', 'club', 'colombian', 'comedy', 'conjazz', 'contemporary', 'country', 'cuban', 'dance', 'dancehall', 'dancepop', 'dark', 'death', 'deep', 'deutschrock', 'deutschspr', 'dirty', 'disco', 'dnb', 'documentary', 'downbeat', 'downtempo', 'drum', 'dub', 'dubstep', 'eastern', 'easy', 'electronic', 'electropop', 'emo', 'entehno', 'epicmetal', 'estrada', 'ethnic', 'eurofolk', 'european', 'experimental', 'extrememetal', 'fado', 'film', 'fitness', 'flamenco', 'folk', 'folklore', 'folkmetal', 'folkrock', 'folktronica', 'forró', 'frankreich', 'französisch', 'french', 'funk', 'future', 'gangsta', 'garage', 'german', 'ghazal', 'gitarre', 'glitch', 'gospel', 'gothic', 'grime', 'grunge', 'gypsy', 'handsup', \"hard'n'heavy\", 'hardcore', 'hardstyle', 'hardtechno', 'hip', 'hip-hop', 'hiphop', 'historisch', 'holiday', 'hop', 'horror', 'house', 'idm', 'independent', 'indian', 'indie', 'indipop', 'industrial', 'inspirational', 'instrumental', 'international', 'irish', 'jam', 'japanese', 'jazz', 'jewish', 'jpop', 'jungle', 'k-pop', 'karadeniz', 'karaoke', 'kayokyoku', 'korean', 'laiko', 'latin', 'latino', 'leftfield', 'local', 'lounge', 'loungeelectronic', 'lovers', 'malaysian', 'mandopop', 'marschmusik', 'meditative', 'mediterranean', 'melodic', 'metal', 'metalcore', 'mexican', 'middle', 'minimal', 'miscellaneous', 'modern', 'mood', 'mpb', 'muslim', 'native', 'neoklassik', 'neue', 'new', 'newage', 'newwave', 'nu', 'nujazz', 'numetal', 'oceania', 'old', 'opera', 'orchestral', 'other', 'piano', 'pop', 'popelectronic', 'popeurodance', 'post', 'posthardcore', 'postrock', 'power', 'progmetal', 'progressive', 'psychedelic', 'punjabi', 'punk', 'quebecois', 'ragga', 'ram', 'rancheras', 'rap', 'rave', 'reggae', 'reggaeton', 'regional', 'relax', 'religious', 'retro', 'rhythm', 'rnb', 'rnr', 'rock', 'rockabilly', 'romance', 'roots', 'ruspop', 'rusrap', 'rusrock', 'salsa', 'samba', 'schlager', 'self', 'sertanejo', 'shoegazing', 'showtunes', 'singer', 'ska', 'slow', 'smooth', 'soul', 'soulful', 'sound', 'soundtrack', 'southern', 'specialty', 'speech', 'spiritual', 'sport', 'stonerrock', 'surf', 'swing', 'synthpop', 'sängerportrait', 'tango', 'tanzorchester', 'taraftar', 'tech', 'techno', 'thrash', 'top', 'traditional', 'tradjazz', 'trance', 'tribal', 'trip', 'triphop', 'tropical', 'türk', 'türkçe', 'unknown', 'urban', 'uzbek', 'variété', 'vi', 'videogame', 'vocal', 'western', 'world', 'worldbeat', 'ïîï']\n"
     ]
    }
   ],
   "source": [
    "# Inspeccionar los nombres de géneros únicos\n",
    "\n",
    "valor_unico = df['genre'].unique()\n",
    "print(sorted(valor_unico))"
   ]
  },
  {
   "cell_type": "markdown",
   "metadata": {
    "id": "qej-Qmuo_Zct"
   },
   "source": [
    "Busca en la lista para encontrar duplicados implícitos del género `hiphop`. Estos pueden ser nombres escritos incorrectamente o nombres alternativos para el mismo género.\n",
    "\n",
    "Verás los siguientes duplicados implícitos:\n",
    "* `hip`\n",
    "* `hop`\n",
    "* `hip-hop`\n",
    "\n",
    "Para deshacerte de ellos, crea una función llamada `replace_wrong_genres()` con dos parámetros:\n",
    "* `wrong_genres=`: esta es una lista que contiene todos los valores que necesitas reemplazar.\n",
    "* `correct_genre=`: este es un string que vas a utilizar como reemplazo.\n",
    "\n",
    "Como resultado, la función debería corregir los nombres en la columna `'genre'` de la tabla `df`, es decir, remplazar cada valor de la lista `wrong_genres` por el valor en `correct_genre`.\n",
    "\n",
    "Dentro del cuerpo de la función, utiliza un bucle `'for'` para iterar sobre la lista de géneros incorrectos, extrae la columna `'genre'` y aplica el método `replace` para hacer correcciones."
   ]
  },
  {
   "cell_type": "code",
   "execution_count": 17,
   "metadata": {
    "id": "ErNDkmns_Zct"
   },
   "outputs": [],
   "source": [
    "# Función para reemplazar duplicados implícitos\n",
    "\n",
    "def replace_wrong_genres(df, genre, wrong_genres, correct_genre):\n",
    "    for wrong_genre in wrong_genres:\n",
    "        df[genre] = df[genre].replace(wrong_genre, correct_genre)\n",
    "    return df"
   ]
  },
  {
   "cell_type": "markdown",
   "metadata": {
    "id": "aDoBJxbA_Zct"
   },
   "source": [
    "Ahora, llama a `replace_wrong_genres()` y pásale tales argumentos para que retire los duplicados implícitos (`hip`, `hop` y `hip-hop`) y los reemplace por `hiphop`:"
   ]
  },
  {
   "cell_type": "code",
   "execution_count": 18,
   "metadata": {
    "id": "YN5i2hpmSo09"
   },
   "outputs": [],
   "source": [
    "# Eliminar duplicados implícitos\n",
    "\n",
    "duplicates = ['hip','hop','hip-hop']\n",
    "name = 'hiphop'\n",
    "df = replace_wrong_genres(df,'genre',duplicates,name)"
   ]
  },
  {
   "cell_type": "markdown",
   "metadata": {
    "id": "zQKF16_RG15m"
   },
   "source": [
    "Asegúrate de que los nombres duplicados han sido eliminados. Muestra la lista de valores únicos de la columna `'genre'` una vez más:"
   ]
  },
  {
   "cell_type": "code",
   "execution_count": 19,
   "metadata": {
    "id": "wvixALnFG15m"
   },
   "outputs": [
    {
     "name": "stdout",
     "output_type": "stream",
     "text": [
      "['acid', 'acoustic', 'action', 'adult', 'africa', 'afrikaans', 'alternative', 'ambient', 'americana', 'animated', 'anime', 'arabesk', 'arabic', 'arena', 'argentinetango', 'art', 'audiobook', 'avantgarde', 'axé', 'baile', 'balkan', 'beats', 'bigroom', 'black', 'bluegrass', 'blues', 'bollywood', 'bossa', 'brazilian', 'breakbeat', 'breaks', 'broadway', 'cantautori', 'cantopop', 'canzone', 'caribbean', 'caucasian', 'celtic', 'chamber', 'children', 'chill', 'chinese', 'choral', 'christian', 'christmas', 'classical', 'classicmetal', 'club', 'colombian', 'comedy', 'conjazz', 'contemporary', 'country', 'cuban', 'dance', 'dancehall', 'dancepop', 'dark', 'death', 'deep', 'deutschrock', 'deutschspr', 'dirty', 'disco', 'dnb', 'documentary', 'downbeat', 'downtempo', 'drum', 'dub', 'dubstep', 'eastern', 'easy', 'electronic', 'electropop', 'emo', 'entehno', 'epicmetal', 'estrada', 'ethnic', 'eurofolk', 'european', 'experimental', 'extrememetal', 'fado', 'film', 'fitness', 'flamenco', 'folk', 'folklore', 'folkmetal', 'folkrock', 'folktronica', 'forró', 'frankreich', 'französisch', 'french', 'funk', 'future', 'gangsta', 'garage', 'german', 'ghazal', 'gitarre', 'glitch', 'gospel', 'gothic', 'grime', 'grunge', 'gypsy', 'handsup', \"hard'n'heavy\", 'hardcore', 'hardstyle', 'hardtechno', 'hiphop', 'historisch', 'holiday', 'horror', 'house', 'idm', 'independent', 'indian', 'indie', 'indipop', 'industrial', 'inspirational', 'instrumental', 'international', 'irish', 'jam', 'japanese', 'jazz', 'jewish', 'jpop', 'jungle', 'k-pop', 'karadeniz', 'karaoke', 'kayokyoku', 'korean', 'laiko', 'latin', 'latino', 'leftfield', 'local', 'lounge', 'loungeelectronic', 'lovers', 'malaysian', 'mandopop', 'marschmusik', 'meditative', 'mediterranean', 'melodic', 'metal', 'metalcore', 'mexican', 'middle', 'minimal', 'miscellaneous', 'modern', 'mood', 'mpb', 'muslim', 'native', 'neoklassik', 'neue', 'new', 'newage', 'newwave', 'nu', 'nujazz', 'numetal', 'oceania', 'old', 'opera', 'orchestral', 'other', 'piano', 'pop', 'popelectronic', 'popeurodance', 'post', 'posthardcore', 'postrock', 'power', 'progmetal', 'progressive', 'psychedelic', 'punjabi', 'punk', 'quebecois', 'ragga', 'ram', 'rancheras', 'rap', 'rave', 'reggae', 'reggaeton', 'regional', 'relax', 'religious', 'retro', 'rhythm', 'rnb', 'rnr', 'rock', 'rockabilly', 'romance', 'roots', 'ruspop', 'rusrap', 'rusrock', 'salsa', 'samba', 'schlager', 'self', 'sertanejo', 'shoegazing', 'showtunes', 'singer', 'ska', 'slow', 'smooth', 'soul', 'soulful', 'sound', 'soundtrack', 'southern', 'specialty', 'speech', 'spiritual', 'sport', 'stonerrock', 'surf', 'swing', 'synthpop', 'sängerportrait', 'tango', 'tanzorchester', 'taraftar', 'tech', 'techno', 'thrash', 'top', 'traditional', 'tradjazz', 'trance', 'tribal', 'trip', 'triphop', 'tropical', 'türk', 'türkçe', 'unknown', 'urban', 'uzbek', 'variété', 'vi', 'videogame', 'vocal', 'western', 'world', 'worldbeat', 'ïîï']\n"
     ]
    }
   ],
   "source": [
    "# Comprobación de duplicados implícitos\n",
    "\n",
    "valor_unico = df['genre'].unique()\n",
    "print(sorted(valor_unico))"
   ]
  },
  {
   "cell_type": "markdown",
   "metadata": {
    "id": "ALgNbvF3VtPA"
   },
   "source": [
    "[Volver a Contenidos](#back)"
   ]
  },
  {
   "cell_type": "markdown",
   "metadata": {
    "id": "jz6a9-7HQUDd"
   },
   "source": [
    "### Tus observaciones <a id='data_preprocessing_conclusions'></a>\n",
    "\n",
    "HUBO LA NECESIDAD DE REALIZAR ALGUNOS AJUSTES Y LIMPIEZA DE DATOS A LA TABLA, ANTES DE PROCEDER A SU ANÁLISIS, YA QUE CONTABA CON FALTA DE INFORMACIÓN AL TENER VALORES PERDIDOS, ASÍ COMO DUPLICADOS, TAMBIÉN SE TUVO LA NECESIDAD DE UNIFICAR LA ESCRITURA DE ALGUNAS PALABRAS PARA UN MEJOR MANEJO DE LA INFORMACIÓN Y MEJORES RESULTADOS. INICIAR CON UN PREPOCESAMIENTO DE DATOS, Y OBTENER UNA TABLA MÁS LIMPIA, LEGIBLE ES CRUCIAL PARA PODER REALIZAR UN ANÁLISIS DE MANERA CORRECTA Y OBTENER MEJORES RESULTADOS."
   ]
  },
  {
   "cell_type": "markdown",
   "metadata": {
    "id": "eK1es74rVujj"
   },
   "source": [
    "[Volver a Contenidos](#back)"
   ]
  },
  {
   "cell_type": "markdown",
   "metadata": {
    "id": "WttZHXH0SqKk"
   },
   "source": [
    "## Etapa 3. Prueba de hipótesis <a id='hypothesis'></a>"
   ]
  },
  {
   "cell_type": "markdown",
   "metadata": {
    "id": "Im936VVi_Zcu"
   },
   "source": [
    "### Hipótesis: comparar el comportamiento del usuario o la usuaria en las dos ciudades <a id='activity'></a>"
   ]
  },
  {
   "cell_type": "markdown",
   "metadata": {
    "id": "nwt_MuaL_Zcu"
   },
   "source": [
    "La hipótesis afirma que existen diferencias en la forma en que los usuarios y las usuarias de Springfield y Shelbyville consumen música. Para comprobar esto, usa los datos de tres días de la semana: lunes, miércoles y viernes.\n",
    "\n",
    "* Agrupa a los usuarios y las usuarias por ciudad.\n",
    "* Compara el número de canciones que cada grupo reprodujo el lunes, el miércoles y el viernes.\n"
   ]
  },
  {
   "cell_type": "markdown",
   "metadata": {
    "id": "8Dw_YMmT_Zcu"
   },
   "source": [
    "Realiza cada cálculo por separado.\n",
    "\n",
    "El primer paso es evaluar la actividad del usuario en cada ciudad. Recuerda las etapas dividir-aplicar-combinar de las que hablamos anteriormente en la lección. Tu objetivo ahora es agrupar los datos por ciudad, aplicar el método apropiado para contar durante la etapa de aplicación y luego encontrar la cantidad de canciones reproducidas en cada grupo especificando la columna para obtener el recuento.\n",
    "\n",
    "A continuación se muestra un ejemplo de cómo debería verse el resultado final:\n",
    "`df.groupby(by='....')['column'].method()`Realiza cada cálculo por separado.\n",
    "\n",
    "Para evaluar la actividad de los usuarios y las usuarias en cada ciudad, agrupa los datos por ciudad y encuentra la cantidad de canciones reproducidas en cada grupo.\n",
    "\n"
   ]
  },
  {
   "cell_type": "code",
   "execution_count": 20,
   "metadata": {
    "id": "0_Qs96oh_Zcu"
   },
   "outputs": [
    {
     "name": "stdout",
     "output_type": "stream",
     "text": [
      "city\n",
      "Shelbyville    18512\n",
      "Springfield    42741\n",
      "Name: track, dtype: int64\n"
     ]
    }
   ],
   "source": [
    "# Contar las canciones reproducidas en cada ciudad\n",
    "\n",
    "print(df.groupby('city')['track'].count())"
   ]
  },
  {
   "cell_type": "markdown",
   "metadata": {
    "id": "t_Qx-3NewAnK"
   },
   "source": [
    "`Comenta tus observaciones aquí`\n",
    "\n",
    "POR LO QUE SE PUEDE OBSERVAR CON LA INFORMACIÓN QUE NOS ARROJA ESTA LÍNEA DE CÓDIGO ES QUE EN LA CIUDAD DE SPRINGFIELD SE REPRODUCEN MÁS DEL DOBLE DE CANCIONES A DIFERENCIA DE SHELBYVILLE, SIN EMBARGO, HABRÍA TODAVÍA QUE VER EN QUE DÍAS DE LA SEMANA SON REPRODUCIDAS, PARA LLEGAR AL OBJETIVO"
   ]
  },
  {
   "cell_type": "markdown",
   "metadata": {
    "id": "dzli3w8o_Zcu"
   },
   "source": [
    "Ahora agrupemos los datos por día de la semana y encontremos el número de canciones reproducidas el lunes, miércoles y viernes. Utiliza el mismo método que antes, pero ahora necesitamos una agrupación diferente.\n"
   ]
  },
  {
   "cell_type": "code",
   "execution_count": 21,
   "metadata": {
    "id": "uZMKjiJz_Zcu"
   },
   "outputs": [
    {
     "name": "stdout",
     "output_type": "stream",
     "text": [
      "day\n",
      "Friday       21840\n",
      "Monday       21354\n",
      "Wednesday    18059\n",
      "Name: track, dtype: int64\n"
     ]
    }
   ],
   "source": [
    "# Calcular las canciones reproducidas en cada uno de los tres días\n",
    "\n",
    "print(df.groupby('day')['track'].count())"
   ]
  },
  {
   "cell_type": "markdown",
   "metadata": {
    "id": "cC2tNrlL_Zcu"
   },
   "source": [
    "`Comenta tus observaciones aquí`\n",
    "\n",
    "AQUÍ LO QUE NOS MUESTRA ES QUE LA MAYOR CANTIDAD DE CANCIONES REPRODUCIDAS SE LLEVA A CABO LOS DÍAS VIERNES Y LUNES, AUNQUE PODEMOS OBSERVAR QUE LOS MIÉRCOLES TAMBIÉN ES BASTANTE ALTO EL NÚMERO DE REPRODUCCIONES, SIN EMBARGO NO LLEGA A LAS CANTIDADES LOS LUNES Y VIERNES."
   ]
  },
  {
   "cell_type": "markdown",
   "metadata": {
    "id": "POzs8bGa_Zcu"
   },
   "source": [
    "Ya sabes cómo contar entradas agrupándolas por ciudad o día. Ahora necesitas escribir una función que pueda contar entradas según ambos criterios simultáneamente.\n",
    "\n",
    "Crea la función `number_tracks()` para calcular el número de canciones reproducidas en un determinado día **y** ciudad. La función debe aceptar dos parámetros:\n",
    "\n",
    "- `day`: un día de la semana para filtrar. Por ejemplo, `'Monday'` (lunes).\n",
    "- `city`: una ciudad para filtrar. Por ejemplo, `'Springfield'`.\n",
    "\n",
    "Dentro de la función, aplicarás un filtrado consecutivo con indexación lógica.\n",
    "\n",
    "Primero filtra los datos por día y luego filtra la tabla resultante por ciudad.\n",
    "\n",
    "Después de filtrar los datos por dos criterios, cuenta el número de valores de la columna 'user_id' en la tabla resultante. Este recuento representa el número de entradas que estás buscando. Guarda el resultado en una nueva variable y devuélvelo desde la función."
   ]
  },
  {
   "cell_type": "code",
   "execution_count": 22,
   "metadata": {
    "id": "Nz3GdQB1_Zcu"
   },
   "outputs": [],
   "source": [
    "# Declara la función number_tracks() con dos parámetros: day= y city=.\n",
    "def number_tracks(day, city):\n",
    "\n",
    "    # Almacena las filas del DataFrame donde el valor en la columna 'day' es igual al parámetro day=\n",
    "    day = df.query(\"day in @day\")[['user_id','day', 'city']]\n",
    "    \n",
    "    # Filtra las filas donde el valor en la columna 'city' es igual al parámetro city=\n",
    "    city = day.query(\"city in @city\")[['user_id','day','city']]\n",
    "    \n",
    "    # Extrae la columna 'user_id' de la tabla filtrada y aplica el método count()\n",
    "    filtered = city['user_id'].count()\n",
    "    \n",
    "    # Devolve el número de valores de la columna 'user_id'\n",
    "    return filtered"
   ]
  },
  {
   "cell_type": "markdown",
   "metadata": {
    "id": "ytf7xFrFJQ2r"
   },
   "source": [
    "Llama a `number_tracks()` seis veces, cambiando los valores de los parámetros para que recuperes los datos de ambas ciudades para cada uno de los tres días."
   ]
  },
  {
   "cell_type": "code",
   "execution_count": 23,
   "metadata": {
    "id": "rJcRATNQ_Zcu"
   },
   "outputs": [
    {
     "name": "stdout",
     "output_type": "stream",
     "text": [
      "15740\n"
     ]
    }
   ],
   "source": [
    "# El número de canciones reproducidas en Springfield el lunes\n",
    "\n",
    "springfield_monday = number_tracks('Monday','Springfield')\n",
    "print(springfield_monday)"
   ]
  },
  {
   "cell_type": "code",
   "execution_count": 24,
   "metadata": {
    "id": "hq_ncZ5T_Zcu"
   },
   "outputs": [
    {
     "name": "stdout",
     "output_type": "stream",
     "text": [
      "5614\n"
     ]
    }
   ],
   "source": [
    "# El número de canciones reproducidas en Shelbyville el lunes\n",
    "\n",
    "shelbyville_monday = number_tracks('Monday','Shelbyville')\n",
    "print(shelbyville_monday)"
   ]
  },
  {
   "cell_type": "code",
   "execution_count": 25,
   "metadata": {
    "id": "_NTy2VPU_Zcu"
   },
   "outputs": [
    {
     "name": "stdout",
     "output_type": "stream",
     "text": [
      "11056\n"
     ]
    }
   ],
   "source": [
    "# El número de canciones reproducidas en Springfield el miércoles\n",
    "\n",
    "springfield_wednesday = number_tracks('Wednesday','Springfield')\n",
    "print(springfield_wednesday)"
   ]
  },
  {
   "cell_type": "code",
   "execution_count": 26,
   "metadata": {
    "id": "j2y3TAwo_Zcu"
   },
   "outputs": [
    {
     "name": "stdout",
     "output_type": "stream",
     "text": [
      "7003\n"
     ]
    }
   ],
   "source": [
    "# El número de canciones reproducidas en Shelbyville el miércoles\n",
    "\n",
    "shelbyville_wednesday = number_tracks('Wednesday','Shelbyville')\n",
    "print(shelbyville_wednesday)"
   ]
  },
  {
   "cell_type": "code",
   "execution_count": 27,
   "metadata": {
    "id": "vYDw5u_K_Zcu"
   },
   "outputs": [
    {
     "name": "stdout",
     "output_type": "stream",
     "text": [
      "15945\n"
     ]
    }
   ],
   "source": [
    "# El número de canciones reproducidas en Springfield el viernes\n",
    "\n",
    "springfield_friday = number_tracks('Friday','Springfield')\n",
    "print(springfield_friday)"
   ]
  },
  {
   "cell_type": "code",
   "execution_count": 28,
   "metadata": {
    "id": "8_yzFtW3_Zcu"
   },
   "outputs": [
    {
     "name": "stdout",
     "output_type": "stream",
     "text": [
      "5895\n"
     ]
    }
   ],
   "source": [
    "# El número de canciones reproducidas en Shelbyville el viernes\n",
    "\n",
    "shelbyville_friday = number_tracks('Friday','Shelbyville')\n",
    "print(shelbyville_friday)"
   ]
  },
  {
   "cell_type": "markdown",
   "metadata": {
    "id": "-EgPIHYu_Zcu"
   },
   "source": [
    "**Conclusiones**\n",
    "\n",
    "SEGÚN LA HIPÓTESIS Y EL OBJETIVO DEL ANÁLISIS PODRÍA DECIRSE QUE SERÍA UN 50/50, YA QUE SEGÚN LOS RESULTADOS QUE ARROJA EL ANÁLISIS, PODEMOS OBSERVAR QUE SI DIFIERE EN CUANTO A LA CIUDAD, YA QUE SE PUEDE OBSERVAR BASTANTE DIFERENCIA EN CUANTO A LA CANTIDAD DE REPRODUCCIONES ENTRE CADA CIUDAD, POR OTRO LADO, TAMBIÉN SE PUEDE OBSERVAR QUE LA CANTIDAD DE REPRODUCCIONES ENTRE LOS DÍAS DE LA SEMANA, NO ES TANTA LA DIFERENCIA, YA QUE LAS CANTIDADES ARROJADAS SON BASTANTE CERCANAS DE UN DÍA A OTRO. POR LO TANTO LA CONCLUSIÓN ES, MAS BIEN QUE DIFIERE ENTRE CIUDADES, SIN EMBARGO, SERÍA DE GRAN UTILIDAD PODER OBSERVAR EL COMPORTAMIENTO EN MÁS CANTIDAD DE CIUDADES, PARA COMPROBAR AÚN MÁS LO MENCIONADO."
   ]
  },
  {
   "cell_type": "markdown",
   "metadata": {
    "id": "p7nFQajCVw5B"
   },
   "source": [
    "[Volver a Contenidos](#back)"
   ]
  },
  {
   "cell_type": "markdown",
   "metadata": {
    "id": "ykKQ0N65_Zcv"
   },
   "source": [
    "# Conclusiones <a id='end'></a>"
   ]
  },
  {
   "cell_type": "markdown",
   "metadata": {
    "id": "tjUwbHb3_Zcv"
   },
   "source": [
    "MI CONCLUSIÓN SOBRE LA HIPÓTESIS ES, PARA EMPEZAR, FUE BASTANTE INTERESANTE VER COMO SE PUEDEN MANEJAR LOS DATOS PARA ANALIZAR LOS COMPORTAMIENTOS DE LOS USUARIOS, SIN EMBARGO, SE PUEDE OBSERVAR QUE DIFIERE MÁS EN CUANTO A LA CIUDAD Y NO TANTO EN LOS DÍAS, YA QUE PUDIMOS VER QUE LA DIFERENCIA ENTRE UN DÍA Y OTRO NO FUE TAN SIGNIFICATIVA COMO DE CIUDAD A DIUDAD, SERÍA INTERESANTE PODER ANALIZAR OTRAS CIUDADES MÁS, PARA COMPROBAR LO DICHO, SI DIFIERE MÁS ENTRE CIUDADES."
   ]
  },
  {
   "cell_type": "markdown",
   "metadata": {
    "id": "azLHu64yOIp7"
   },
   "source": [
    "### Nota\n",
    "En proyectos de investigación reales, la prueba de hipótesis estadística es más precisa y cuantitativa. También ten en cuenta que no siempre se pueden sacar conclusiones sobre una ciudad entera a partir de datos de una sola fuente.\n",
    "\n",
    "Aprenderás más sobre la prueba de hipótesis en el sprint de análisis estadístico de datos."
   ]
  },
  {
   "cell_type": "markdown",
   "metadata": {
    "id": "Ju4AHDSgV1FE"
   },
   "source": [
    "[Volver a Contenidos](#back)"
   ]
  }
 ],
 "metadata": {
  "ExecuteTimeLog": [
   {
    "duration": 294,
    "start_time": "2024-10-02T22:08:04.778Z"
   },
   {
    "duration": 121,
    "start_time": "2024-10-02T22:09:47.314Z"
   },
   {
    "duration": 7,
    "start_time": "2024-10-02T22:10:07.391Z"
   },
   {
    "duration": 34,
    "start_time": "2024-10-02T22:11:01.189Z"
   },
   {
    "duration": 6,
    "start_time": "2024-10-02T22:33:09.149Z"
   },
   {
    "duration": 89,
    "start_time": "2024-10-02T22:33:42.202Z"
   },
   {
    "duration": 17,
    "start_time": "2024-10-02T22:34:42.072Z"
   },
   {
    "duration": 17,
    "start_time": "2024-10-02T22:35:13.150Z"
   },
   {
    "duration": 18,
    "start_time": "2024-10-02T22:35:54.099Z"
   },
   {
    "duration": 6,
    "start_time": "2024-10-02T22:36:08.590Z"
   },
   {
    "duration": 102,
    "start_time": "2024-10-02T22:49:37.780Z"
   },
   {
    "duration": 3,
    "start_time": "2024-10-02T22:50:07.704Z"
   },
   {
    "duration": 12,
    "start_time": "2024-10-02T23:35:33.120Z"
   },
   {
    "duration": 10,
    "start_time": "2024-10-02T23:35:47.078Z"
   },
   {
    "duration": 370,
    "start_time": "2024-10-02T23:36:16.267Z"
   },
   {
    "duration": 12,
    "start_time": "2024-10-02T23:36:49.718Z"
   },
   {
    "duration": 3,
    "start_time": "2024-10-02T23:46:07.896Z"
   },
   {
    "duration": 3,
    "start_time": "2024-10-02T23:46:20.027Z"
   },
   {
    "duration": 3,
    "start_time": "2024-10-02T23:55:45.575Z"
   },
   {
    "duration": 5,
    "start_time": "2024-10-03T00:14:36.664Z"
   },
   {
    "duration": 7,
    "start_time": "2024-10-03T00:19:39.113Z"
   },
   {
    "duration": 3,
    "start_time": "2024-10-03T00:20:16.298Z"
   },
   {
    "duration": 158,
    "start_time": "2024-10-03T16:00:10.672Z"
   },
   {
    "duration": 328,
    "start_time": "2024-10-03T16:00:27.280Z"
   },
   {
    "duration": 116,
    "start_time": "2024-10-03T16:00:29.638Z"
   },
   {
    "duration": 7,
    "start_time": "2024-10-03T16:00:32.562Z"
   },
   {
    "duration": 21,
    "start_time": "2024-10-03T16:00:36.571Z"
   },
   {
    "duration": 3,
    "start_time": "2024-10-03T16:00:43.663Z"
   },
   {
    "duration": 3,
    "start_time": "2024-10-03T16:00:46.685Z"
   },
   {
    "duration": 5,
    "start_time": "2024-10-03T16:00:49.004Z"
   },
   {
    "duration": 8,
    "start_time": "2024-10-03T16:00:51.526Z"
   },
   {
    "duration": 3,
    "start_time": "2024-10-03T16:00:54.630Z"
   },
   {
    "duration": 17,
    "start_time": "2024-10-03T16:02:04.865Z"
   },
   {
    "duration": 48,
    "start_time": "2024-10-03T16:16:11.523Z"
   },
   {
    "duration": 56,
    "start_time": "2024-10-03T16:16:14.308Z"
   },
   {
    "duration": 16,
    "start_time": "2024-10-03T16:16:40.557Z"
   },
   {
    "duration": 77,
    "start_time": "2024-10-03T16:17:30.730Z"
   },
   {
    "duration": 16,
    "start_time": "2024-10-03T16:17:33.543Z"
   },
   {
    "duration": 49,
    "start_time": "2024-10-03T16:27:20.541Z"
   },
   {
    "duration": 18,
    "start_time": "2024-10-03T16:27:23.752Z"
   },
   {
    "duration": 41,
    "start_time": "2024-10-03T16:33:06.093Z"
   },
   {
    "duration": 17,
    "start_time": "2024-10-03T16:36:44.767Z"
   },
   {
    "duration": 23,
    "start_time": "2024-10-03T16:45:33.945Z"
   },
   {
    "duration": 13,
    "start_time": "2024-10-03T16:46:34.482Z"
   },
   {
    "duration": 13,
    "start_time": "2024-10-03T16:47:13.321Z"
   },
   {
    "duration": 13,
    "start_time": "2024-10-03T16:47:30.650Z"
   },
   {
    "duration": 20,
    "start_time": "2024-10-03T16:48:27.208Z"
   },
   {
    "duration": 18,
    "start_time": "2024-10-03T16:48:46.199Z"
   },
   {
    "duration": 6,
    "start_time": "2024-10-03T16:51:06.071Z"
   },
   {
    "duration": 17,
    "start_time": "2024-10-03T16:51:10.008Z"
   },
   {
    "duration": 22,
    "start_time": "2024-10-03T16:57:37.174Z"
   },
   {
    "duration": 22,
    "start_time": "2024-10-03T16:58:41.158Z"
   },
   {
    "duration": 9,
    "start_time": "2024-10-03T17:00:45.230Z"
   },
   {
    "duration": 11,
    "start_time": "2024-10-03T17:01:25.551Z"
   },
   {
    "duration": 16,
    "start_time": "2024-10-03T17:01:29.847Z"
   },
   {
    "duration": 40,
    "start_time": "2024-10-03T17:04:02.674Z"
   },
   {
    "duration": 53,
    "start_time": "2024-10-03T17:06:10.867Z"
   },
   {
    "duration": 41,
    "start_time": "2024-10-03T17:06:58.459Z"
   },
   {
    "duration": 49,
    "start_time": "2024-10-03T17:08:34.469Z"
   },
   {
    "duration": 43,
    "start_time": "2024-10-03T17:08:44.790Z"
   },
   {
    "duration": 41,
    "start_time": "2024-10-03T17:11:14.185Z"
   },
   {
    "duration": 148,
    "start_time": "2024-10-03T17:11:54.453Z"
   },
   {
    "duration": 44,
    "start_time": "2024-10-03T17:16:41.223Z"
   },
   {
    "duration": 42,
    "start_time": "2024-10-03T17:16:43.796Z"
   },
   {
    "duration": 48,
    "start_time": "2024-10-03T17:16:46.229Z"
   },
   {
    "duration": 6,
    "start_time": "2024-10-03T17:27:23.417Z"
   },
   {
    "duration": 2,
    "start_time": "2024-10-03T17:41:36.594Z"
   },
   {
    "duration": 12,
    "start_time": "2024-10-03T17:45:53.451Z"
   },
   {
    "duration": 380,
    "start_time": "2024-10-03T17:45:58.678Z"
   },
   {
    "duration": 12,
    "start_time": "2024-10-03T17:46:56.488Z"
   },
   {
    "duration": 9,
    "start_time": "2024-10-03T17:47:09.580Z"
   },
   {
    "duration": 7,
    "start_time": "2024-10-03T17:47:58.577Z"
   },
   {
    "duration": 9,
    "start_time": "2024-10-03T18:02:42.743Z"
   },
   {
    "duration": 9,
    "start_time": "2024-10-03T18:14:40.208Z"
   },
   {
    "duration": 12,
    "start_time": "2024-10-03T18:24:42.564Z"
   },
   {
    "duration": 6,
    "start_time": "2024-10-03T18:25:17.771Z"
   },
   {
    "duration": 7,
    "start_time": "2024-10-03T18:27:01.579Z"
   },
   {
    "duration": 5,
    "start_time": "2024-10-03T18:28:40.285Z"
   },
   {
    "duration": 16,
    "start_time": "2024-10-03T18:29:15.443Z"
   },
   {
    "duration": 15,
    "start_time": "2024-10-03T18:30:56.403Z"
   },
   {
    "duration": 5,
    "start_time": "2024-10-03T18:32:51.697Z"
   },
   {
    "duration": 15,
    "start_time": "2024-10-03T18:34:32.445Z"
   },
   {
    "duration": 5,
    "start_time": "2024-10-03T18:35:20.848Z"
   },
   {
    "duration": 7,
    "start_time": "2024-10-03T18:36:33.735Z"
   },
   {
    "duration": 6,
    "start_time": "2024-10-03T18:37:46.996Z"
   },
   {
    "duration": 3,
    "start_time": "2024-10-03T19:17:47.546Z"
   },
   {
    "duration": 4,
    "start_time": "2024-10-03T19:19:31.877Z"
   },
   {
    "duration": 4,
    "start_time": "2024-10-03T19:29:32.746Z"
   },
   {
    "duration": 4,
    "start_time": "2024-10-03T21:08:06.417Z"
   },
   {
    "duration": 4,
    "start_time": "2024-10-03T21:09:08.321Z"
   },
   {
    "duration": 6,
    "start_time": "2024-10-03T21:10:43.430Z"
   },
   {
    "duration": 3,
    "start_time": "2024-10-03T21:10:52.947Z"
   },
   {
    "duration": 12,
    "start_time": "2024-10-03T21:15:00.139Z"
   },
   {
    "duration": 12,
    "start_time": "2024-10-03T21:15:12.274Z"
   },
   {
    "duration": 3,
    "start_time": "2024-10-03T21:17:04.608Z"
   },
   {
    "duration": 27,
    "start_time": "2024-10-03T21:17:09.082Z"
   },
   {
    "duration": 3,
    "start_time": "2024-10-03T21:18:44.718Z"
   },
   {
    "duration": 3,
    "start_time": "2024-10-03T21:24:34.001Z"
   },
   {
    "duration": 22,
    "start_time": "2024-10-03T21:24:37.439Z"
   },
   {
    "duration": 3,
    "start_time": "2024-10-03T21:26:44.117Z"
   },
   {
    "duration": 22,
    "start_time": "2024-10-03T21:27:02.327Z"
   },
   {
    "duration": 19,
    "start_time": "2024-10-03T21:27:26.170Z"
   },
   {
    "duration": 3,
    "start_time": "2024-10-03T21:31:07.416Z"
   },
   {
    "duration": 20,
    "start_time": "2024-10-03T21:31:10.068Z"
   },
   {
    "duration": 3,
    "start_time": "2024-10-03T21:31:22.448Z"
   },
   {
    "duration": 3,
    "start_time": "2024-10-03T21:33:52.568Z"
   },
   {
    "duration": 13,
    "start_time": "2024-10-03T21:33:55.491Z"
   },
   {
    "duration": 3,
    "start_time": "2024-10-03T21:34:18.011Z"
   },
   {
    "duration": 71,
    "start_time": "2024-10-03T21:34:26.788Z"
   },
   {
    "duration": 3,
    "start_time": "2024-10-03T21:35:35.103Z"
   },
   {
    "duration": 358,
    "start_time": "2024-10-03T21:35:39.416Z"
   },
   {
    "duration": 3,
    "start_time": "2024-10-03T21:36:03.761Z"
   },
   {
    "duration": 20,
    "start_time": "2024-10-03T21:36:09.217Z"
   },
   {
    "duration": 3,
    "start_time": "2024-10-03T21:40:52.887Z"
   },
   {
    "duration": 438,
    "start_time": "2024-10-03T21:40:58.654Z"
   },
   {
    "duration": 4,
    "start_time": "2024-10-03T21:41:36.634Z"
   },
   {
    "duration": 144,
    "start_time": "2024-10-03T21:41:38.989Z"
   },
   {
    "duration": 3,
    "start_time": "2024-10-03T21:43:14.928Z"
   },
   {
    "duration": 137,
    "start_time": "2024-10-03T21:43:18.979Z"
   },
   {
    "duration": 3,
    "start_time": "2024-10-03T21:44:39.955Z"
   },
   {
    "duration": 55,
    "start_time": "2024-10-03T21:44:42.116Z"
   },
   {
    "duration": 3,
    "start_time": "2024-10-03T21:45:17.128Z"
   },
   {
    "duration": 17,
    "start_time": "2024-10-03T21:45:20.514Z"
   },
   {
    "duration": 2,
    "start_time": "2024-10-03T21:45:28.850Z"
   },
   {
    "duration": 16,
    "start_time": "2024-10-03T21:45:32.054Z"
   },
   {
    "duration": 13,
    "start_time": "2024-10-03T21:46:27.383Z"
   },
   {
    "duration": 3,
    "start_time": "2024-10-03T21:46:30.526Z"
   },
   {
    "duration": 16,
    "start_time": "2024-10-03T21:46:32.999Z"
   },
   {
    "duration": 14,
    "start_time": "2024-10-03T21:46:36.443Z"
   },
   {
    "duration": 16,
    "start_time": "2024-10-03T21:47:45.615Z"
   },
   {
    "duration": 16,
    "start_time": "2024-10-03T21:48:13.752Z"
   },
   {
    "duration": 16,
    "start_time": "2024-10-03T21:48:22.105Z"
   },
   {
    "duration": 15,
    "start_time": "2024-10-03T21:49:28.451Z"
   },
   {
    "duration": 19,
    "start_time": "2024-10-03T21:50:35.662Z"
   },
   {
    "duration": 21,
    "start_time": "2024-10-03T21:50:56.563Z"
   },
   {
    "duration": 16,
    "start_time": "2024-10-03T21:51:14.570Z"
   },
   {
    "duration": 19,
    "start_time": "2024-10-03T21:51:37.491Z"
   },
   {
    "duration": 17,
    "start_time": "2024-10-03T21:52:13.084Z"
   },
   {
    "duration": 158,
    "start_time": "2024-10-04T03:39:01.667Z"
   },
   {
    "duration": 2,
    "start_time": "2024-10-04T03:39:19.800Z"
   },
   {
    "duration": 331,
    "start_time": "2024-10-04T03:39:25.560Z"
   },
   {
    "duration": 126,
    "start_time": "2024-10-04T03:39:25.893Z"
   },
   {
    "duration": 7,
    "start_time": "2024-10-04T03:39:26.021Z"
   },
   {
    "duration": 25,
    "start_time": "2024-10-04T03:39:26.030Z"
   },
   {
    "duration": 3,
    "start_time": "2024-10-04T03:39:26.057Z"
   },
   {
    "duration": 3,
    "start_time": "2024-10-04T03:39:26.062Z"
   },
   {
    "duration": 4,
    "start_time": "2024-10-04T03:39:26.066Z"
   },
   {
    "duration": 9,
    "start_time": "2024-10-04T03:39:26.072Z"
   },
   {
    "duration": 3,
    "start_time": "2024-10-04T03:39:26.082Z"
   },
   {
    "duration": 54,
    "start_time": "2024-10-04T03:39:26.089Z"
   },
   {
    "duration": 12,
    "start_time": "2024-10-04T03:39:26.144Z"
   },
   {
    "duration": 17,
    "start_time": "2024-10-04T03:39:26.158Z"
   },
   {
    "duration": 45,
    "start_time": "2024-10-04T03:39:26.177Z"
   },
   {
    "duration": 63,
    "start_time": "2024-10-04T03:39:26.224Z"
   },
   {
    "duration": 54,
    "start_time": "2024-10-04T03:39:26.289Z"
   },
   {
    "duration": 6,
    "start_time": "2024-10-04T03:39:26.344Z"
   },
   {
    "duration": 3,
    "start_time": "2024-10-04T03:39:26.351Z"
   },
   {
    "duration": 9,
    "start_time": "2024-10-04T03:39:26.356Z"
   },
   {
    "duration": 6,
    "start_time": "2024-10-04T03:39:26.366Z"
   },
   {
    "duration": 10,
    "start_time": "2024-10-04T03:39:26.374Z"
   },
   {
    "duration": 8,
    "start_time": "2024-10-04T03:39:26.385Z"
   },
   {
    "duration": 3,
    "start_time": "2024-10-04T03:39:26.395Z"
   },
   {
    "duration": 61,
    "start_time": "2024-10-04T03:39:26.399Z"
   },
   {
    "duration": 17,
    "start_time": "2024-10-04T03:39:26.462Z"
   },
   {
    "duration": 20,
    "start_time": "2024-10-04T03:39:26.480Z"
   },
   {
    "duration": 41,
    "start_time": "2024-10-04T03:39:26.502Z"
   },
   {
    "duration": 19,
    "start_time": "2024-10-04T03:39:26.545Z"
   },
   {
    "duration": 2,
    "start_time": "2024-10-04T03:39:26.569Z"
   },
   {
    "duration": 18,
    "start_time": "2024-10-04T03:39:34.926Z"
   },
   {
    "duration": 52,
    "start_time": "2024-10-04T03:39:51.120Z"
   },
   {
    "duration": 21,
    "start_time": "2024-10-04T03:40:05.665Z"
   },
   {
    "duration": 19,
    "start_time": "2024-10-04T03:40:44.573Z"
   },
   {
    "duration": 3,
    "start_time": "2024-10-04T03:47:16.220Z"
   },
   {
    "duration": 16,
    "start_time": "2024-10-04T03:47:20.742Z"
   },
   {
    "duration": 13,
    "start_time": "2024-10-04T03:47:26.013Z"
   },
   {
    "duration": 3,
    "start_time": "2024-10-04T03:47:42.771Z"
   },
   {
    "duration": 13,
    "start_time": "2024-10-04T03:47:45.151Z"
   },
   {
    "duration": 3,
    "start_time": "2024-10-04T03:48:01.154Z"
   },
   {
    "duration": 20,
    "start_time": "2024-10-04T03:48:04.199Z"
   },
   {
    "duration": 18,
    "start_time": "2024-10-04T03:48:06.082Z"
   },
   {
    "duration": 3,
    "start_time": "2024-10-04T03:50:13.562Z"
   },
   {
    "duration": 16,
    "start_time": "2024-10-04T03:50:16.282Z"
   },
   {
    "duration": 3,
    "start_time": "2024-10-04T03:50:22.974Z"
   },
   {
    "duration": 21,
    "start_time": "2024-10-04T03:50:24.933Z"
   },
   {
    "duration": 3,
    "start_time": "2024-10-04T03:53:54.056Z"
   },
   {
    "duration": 21,
    "start_time": "2024-10-04T03:53:59.843Z"
   },
   {
    "duration": 21,
    "start_time": "2024-10-04T03:54:05.915Z"
   },
   {
    "duration": 4,
    "start_time": "2024-10-04T03:56:04.157Z"
   },
   {
    "duration": 17,
    "start_time": "2024-10-04T03:56:07.654Z"
   },
   {
    "duration": 4,
    "start_time": "2024-10-04T03:56:19.720Z"
   },
   {
    "duration": 4,
    "start_time": "2024-10-04T03:57:05.624Z"
   },
   {
    "duration": 15,
    "start_time": "2024-10-04T03:57:09.903Z"
   },
   {
    "duration": 3,
    "start_time": "2024-10-04T03:57:28.979Z"
   },
   {
    "duration": 20,
    "start_time": "2024-10-04T03:57:31.521Z"
   },
   {
    "duration": 3,
    "start_time": "2024-10-04T03:57:55.197Z"
   },
   {
    "duration": 12,
    "start_time": "2024-10-04T03:57:57.635Z"
   },
   {
    "duration": 3,
    "start_time": "2024-10-04T03:58:10.591Z"
   },
   {
    "duration": 3,
    "start_time": "2024-10-04T04:01:23.358Z"
   },
   {
    "duration": 20,
    "start_time": "2024-10-04T04:01:25.834Z"
   },
   {
    "duration": 3,
    "start_time": "2024-10-04T04:04:50.843Z"
   },
   {
    "duration": 13,
    "start_time": "2024-10-04T04:04:55.359Z"
   },
   {
    "duration": 12,
    "start_time": "2024-10-04T04:05:01.522Z"
   },
   {
    "duration": 12,
    "start_time": "2024-10-04T04:05:05.624Z"
   },
   {
    "duration": 12,
    "start_time": "2024-10-04T04:05:08.393Z"
   },
   {
    "duration": 13,
    "start_time": "2024-10-04T04:05:11.747Z"
   },
   {
    "duration": 12,
    "start_time": "2024-10-04T04:05:14.121Z"
   },
   {
    "duration": 13,
    "start_time": "2024-10-04T04:08:52.251Z"
   },
   {
    "duration": 26,
    "start_time": "2024-10-04T04:14:00.596Z"
   },
   {
    "duration": 10,
    "start_time": "2024-10-04T04:17:34.139Z"
   },
   {
    "duration": 9,
    "start_time": "2024-10-04T04:17:39.195Z"
   },
   {
    "duration": 18,
    "start_time": "2024-10-04T04:17:44.297Z"
   },
   {
    "duration": 282,
    "start_time": "2024-10-04T04:21:21.527Z"
   },
   {
    "duration": 97,
    "start_time": "2024-10-04T04:21:21.811Z"
   },
   {
    "duration": 7,
    "start_time": "2024-10-04T04:21:21.910Z"
   },
   {
    "duration": 32,
    "start_time": "2024-10-04T04:21:21.919Z"
   },
   {
    "duration": 2,
    "start_time": "2024-10-04T04:21:21.953Z"
   },
   {
    "duration": 4,
    "start_time": "2024-10-04T04:21:21.957Z"
   },
   {
    "duration": 4,
    "start_time": "2024-10-04T04:21:21.963Z"
   },
   {
    "duration": 9,
    "start_time": "2024-10-04T04:21:21.969Z"
   },
   {
    "duration": 3,
    "start_time": "2024-10-04T04:21:21.980Z"
   },
   {
    "duration": 17,
    "start_time": "2024-10-04T04:21:21.986Z"
   },
   {
    "duration": 11,
    "start_time": "2024-10-04T04:21:22.043Z"
   },
   {
    "duration": 19,
    "start_time": "2024-10-04T04:21:22.055Z"
   },
   {
    "duration": 42,
    "start_time": "2024-10-04T04:21:22.076Z"
   },
   {
    "duration": 66,
    "start_time": "2024-10-04T04:21:22.121Z"
   },
   {
    "duration": 53,
    "start_time": "2024-10-04T04:21:22.189Z"
   },
   {
    "duration": 6,
    "start_time": "2024-10-04T04:21:22.243Z"
   },
   {
    "duration": 3,
    "start_time": "2024-10-04T04:21:22.251Z"
   },
   {
    "duration": 8,
    "start_time": "2024-10-04T04:21:22.255Z"
   },
   {
    "duration": 5,
    "start_time": "2024-10-04T04:21:22.265Z"
   },
   {
    "duration": 9,
    "start_time": "2024-10-04T04:21:22.272Z"
   },
   {
    "duration": 9,
    "start_time": "2024-10-04T04:21:22.282Z"
   },
   {
    "duration": 3,
    "start_time": "2024-10-04T04:21:22.292Z"
   },
   {
    "duration": 55,
    "start_time": "2024-10-04T04:21:22.297Z"
   },
   {
    "duration": 12,
    "start_time": "2024-10-04T04:21:22.353Z"
   },
   {
    "duration": 11,
    "start_time": "2024-10-04T04:21:22.367Z"
   },
   {
    "duration": 12,
    "start_time": "2024-10-04T04:21:22.380Z"
   },
   {
    "duration": 12,
    "start_time": "2024-10-04T04:21:22.394Z"
   },
   {
    "duration": 41,
    "start_time": "2024-10-04T04:21:22.409Z"
   },
   {
    "duration": 161,
    "start_time": "2024-10-04T16:58:07.191Z"
   },
   {
    "duration": 323,
    "start_time": "2024-10-04T16:58:17.013Z"
   },
   {
    "duration": 123,
    "start_time": "2024-10-04T16:58:19.327Z"
   },
   {
    "duration": 12,
    "start_time": "2024-10-04T16:58:21.639Z"
   }
  ],
  "colab": {
   "collapsed_sections": [
    "E0vqbgi9ay0H",
    "VUC88oWjTJw2"
   ],
   "provenance": []
  },
  "kernelspec": {
   "display_name": "Python 3 (ipykernel)",
   "language": "python",
   "name": "python3"
  },
  "language_info": {
   "codemirror_mode": {
    "name": "ipython",
    "version": 3
   },
   "file_extension": ".py",
   "mimetype": "text/x-python",
   "name": "python",
   "nbconvert_exporter": "python",
   "pygments_lexer": "ipython3",
   "version": "3.9.19"
  },
  "toc": {
   "base_numbering": 1,
   "nav_menu": {
    "height": "302.995px",
    "width": "443.997px"
   },
   "number_sections": true,
   "sideBar": true,
   "skip_h1_title": true,
   "title_cell": "Table of Contents",
   "title_sidebar": "Contents",
   "toc_cell": true,
   "toc_position": {
    "height": "calc(100% - 180px)",
    "left": "10px",
    "top": "150px",
    "width": "281.784px"
   },
   "toc_section_display": true,
   "toc_window_display": false
  }
 },
 "nbformat": 4,
 "nbformat_minor": 1
}
